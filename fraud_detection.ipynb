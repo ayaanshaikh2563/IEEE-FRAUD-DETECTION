{
 "cells": [
  {
   "cell_type": "code",
   "execution_count": 1,
   "id": "7d6a69f9",
   "metadata": {},
   "outputs": [
    {
     "name": "stdout",
     "output_type": "stream",
     "text": [
      "Loading transaction and identity data...\n",
      "Merging data layers...\n",
      "Merged Data Shape: (590540, 434)\n",
      "Data loading and merging complete. Ready for preprocessing.\n"
     ]
    }
   ],
   "source": [
    "import pandas as pd\n",
    "import numpy as np\n",
    "import gc\n",
    "\n",
    "# 1. Load the two data layers (assuming they are unzipped in the current directory)\n",
    "print(\"Loading transaction and identity data...\")\n",
    "train_transaction = pd.read_csv('train_transaction.csv')\n",
    "train_identity = pd.read_csv('train_identity.csv')\n",
    "\n",
    "# 2. Merge the two files on 'TransactionID' (the core multilayered step)\n",
    "# Use a left merge to keep all transaction records.\n",
    "print(\"Merging data layers...\")\n",
    "df_train = pd.merge(train_transaction, train_identity, on='TransactionID', how='left')\n",
    "\n",
    "# 3. Clean up memory for the next steps\n",
    "del train_transaction, train_identity\n",
    "gc.collect()\n",
    "\n",
    "print(f\"Merged Data Shape: {df_train.shape}\")\n",
    "print(\"Data loading and merging complete. Ready for preprocessing.\")"
   ]
  },
  {
   "cell_type": "code",
   "execution_count": 8,
   "id": "eb269336",
   "metadata": {},
   "outputs": [
    {
     "name": "stdout",
     "output_type": "stream",
     "text": [
      "Data preprocessing complete. Ready for GPU training.\n"
     ]
    }
   ],
   "source": [
    "# Define features (X) and target (y)\n",
    "y = df_train['isFraud']\n",
    "X = df_train.drop(['TransactionID', 'isFraud'], axis=1)\n",
    "\n",
    "# Separate numerical and categorical columns\n",
    "# Note: XGBoost handles numerical missing values (NaN) efficiently by default\n",
    "categorical_cols = X.select_dtypes(include='object').columns\n",
    "\n",
    "# Split data (CRITICAL: Use stratify=y to ensure fraud cases are split correctly)\n",
    "from sklearn.model_selection import train_test_split\n",
    "X_train, X_test, y_train, y_test = train_test_split(\n",
    "    X, y, \n",
    "    test_size=0.2, \n",
    "    random_state=42, \n",
    "    stratify=y \n",
    ")\n",
    "\n",
    "# Convert categorical strings to integers (Label Encoding) for XGBoost efficiency\n",
    "from sklearn.preprocessing import LabelEncoder\n",
    "for col in categorical_cols:\n",
    "    le = LabelEncoder()\n",
    "    # Fit on concatenated, safely-typed data to ensure consistency across splits\n",
    "    # Fill missing/NaN values with 'missing' string to handle them explicitly\n",
    "    combined_data = pd.concat([X_train[col], X_test[col]]).astype(str).fillna('missing')\n",
    "    le.fit(combined_data)\n",
    "    \n",
    "    X_train[col] = le.transform(X_train[col].astype(str).fillna('missing'))\n",
    "    X_test[col] = le.transform(X_test[col].astype(str).fillna('missing'))\n",
    "\n",
    "print(\"Data preprocessing complete. Ready for GPU training.\")"
   ]
  },
  {
   "cell_type": "code",
   "execution_count": 9,
   "id": "7c609240",
   "metadata": {},
   "outputs": [
    {
     "name": "stdout",
     "output_type": "stream",
     "text": [
      "Calculated scale_pos_weight: 28\n",
      "Starting XGBoost training (GPU-accelerated)...\n",
      "Training complete.\n",
      "\n",
      "--- Model Performance Metrics ---\n",
      "Overall Accuracy: 0.9742\n",
      "Recall (Minority Class): 0.8043\n",
      "\n",
      "--- Classification Report ---\n",
      "              precision    recall  f1-score   support\n",
      "\n",
      "           0       0.99      0.98      0.99    113975\n",
      "           1       0.60      0.80      0.69      4133\n",
      "\n",
      "    accuracy                           0.97    118108\n",
      "   macro avg       0.79      0.89      0.84    118108\n",
      "weighted avg       0.98      0.97      0.98    118108\n",
      "\n",
      "\n",
      "--- Confusion Matrix ---\n",
      "[[111731   2244]\n",
      " [   809   3324]]\n"
     ]
    }
   ],
   "source": [
    "import xgboost as xgb\n",
    "from sklearn.metrics import classification_report, accuracy_score, recall_score, confusion_matrix\n",
    "\n",
    "# 1. Calculate the weight ratio for the imbalanced data\n",
    "ratio = float(np.sum(y_train == 0)) / np.sum(y_train == 1) \n",
    "print(f\"Calculated scale_pos_weight: {ratio:.0f}\")\n",
    "\n",
    "# 2. Instantiate the Model (GPU Optimized - Modern Syntax)\n",
    "clf = xgb.XGBClassifier(\n",
    "    n_estimators=1000, \n",
    "    max_depth=9, \n",
    "    learning_rate=0.05,\n",
    "    scale_pos_weight=ratio, \n",
    "    \n",
    "    # --- GPU ACCELERATION (Updated Professional Syntax) ---\n",
    "    tree_method='hist', \n",
    "    device='cuda', # Specifies the GPU (CUDA) device\n",
    "    \n",
    "    random_state=42, \n",
    "    n_jobs=-1,\n",
    "    enable_categorical=True # Use this flag as we encoded categorical data\n",
    ")\n",
    "\n",
    "# 3. Train the Model\n",
    "print(\"Starting XGBoost training (GPU-accelerated)...\")\n",
    "clf.fit(X_train, y_train)\n",
    "print(\"Training complete.\")\n",
    "\n",
    "# 4. Make Predictions\n",
    "y_pred = clf.predict(X_test)\n",
    "\n",
    "\n",
    "# --- 5. Final Evaluation and Documentation ---\n",
    "print(\"\\n--- Model Performance Metrics ---\")\n",
    "accuracy = accuracy_score(y_test, y_pred)\n",
    "recall = recall_score(y_test, y_pred)\n",
    "conf_matrix = confusion_matrix(y_test, y_pred)\n",
    "\n",
    "print(f\"Overall Accuracy: {accuracy:.4f}\")\n",
    "print(f\"Recall (Minority Class): {recall:.4f}\")\n",
    "\n",
    "# Print the detailed Classification Report\n",
    "print(\"\\n--- Classification Report ---\")\n",
    "print(classification_report(y_test, y_pred))\n",
    "\n",
    "# Print the Confusion Matrix\n",
    "print(\"\\n--- Confusion Matrix ---\")\n",
    "print(conf_matrix)"
   ]
  }
 ],
 "metadata": {
  "kernelspec": {
   "display_name": "CC-fraud",
   "language": "python",
   "name": "python3"
  },
  "language_info": {
   "codemirror_mode": {
    "name": "ipython",
    "version": 3
   },
   "file_extension": ".py",
   "mimetype": "text/x-python",
   "name": "python",
   "nbconvert_exporter": "python",
   "pygments_lexer": "ipython3",
   "version": "3.10.11"
  }
 },
 "nbformat": 4,
 "nbformat_minor": 5
}
